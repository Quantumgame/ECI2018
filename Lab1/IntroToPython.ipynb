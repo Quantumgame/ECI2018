{
 "cells": [
  {
   "cell_type": "markdown",
   "metadata": {},
   "source": [
    "# Introduction to programming in python #\n",
    "\n",
    "If you have never coded in python before, you may need some additional information to guide you through the process of running and editing the code used in this course.\n",
    "\n",
    "Here we will go over some basics that will help you in getting fluent in python.\n",
    "\n",
    "First of all, everything will be run in these jupyter notebooks, which are a way of running python code in your browser. You can create \"cells\" with code blocks or markdown (like this paragraph), which are just text blocks that can be used to write notes or explanations of the code in your notebook.\n",
    "\n",
    "To execute the code in a cell in a jupyter notebook, simply type \"shift-Enter\", or click the button for \"Run cell, select below\"."
   ]
  },
  {
   "cell_type": "markdown",
   "metadata": {},
   "source": [
    "# Setting variables # "
   ]
  },
  {
   "cell_type": "code",
   "execution_count": 2,
   "metadata": {},
   "outputs": [
    {
     "name": "stdout",
     "output_type": "stream",
     "text": [
      "My name is Laura, I am happy to be here at ECI 2018!\n"
     ]
    }
   ],
   "source": [
    "x = 'ECI 2018'\n",
    "my_name = 'Laura'\n",
    "\n",
    "print('My name is %s, I am happy to be here at %s!'%(my_name, x))"
   ]
  },
  {
   "cell_type": "markdown",
   "metadata": {},
   "source": [
    "# Importing modules #\n",
    "\n",
    "You can do quite a bit of basic programming in python with just the default functions, however, to do anything more complicated like loading text files, multiplying matrices, or making plots, you have to import the relevant modules. There are a ton of modules being developed by the Open Science community, including those for scientific python (scipy), mathematical processing (numpy), deep learning (theano, tensorflow), etc.\n",
    "\n",
    "For example, "
   ]
  },
  {
   "cell_type": "code",
   "execution_count": 7,
   "metadata": {
    "collapsed": true
   },
   "outputs": [],
   "source": [
    "import numpy as np"
   ]
  },
  {
   "cell_type": "code",
   "execution_count": 8,
   "metadata": {},
   "outputs": [
    {
     "data": {
      "text/plain": [
       "<module 'numpy' from '/Users/liberty/anaconda3/anaconda/lib/python3.5/site-packages/numpy/__init__.py'>"
      ]
     },
     "execution_count": 8,
     "metadata": {},
     "output_type": "execute_result"
    }
   ],
   "source": [
    "numpy"
   ]
  },
  {
   "cell_type": "markdown",
   "metadata": {},
   "source": [
    "# Working with matrices \n",
    "\n"
   ]
  },
  {
   "cell_type": "code",
   "execution_count": null,
   "metadata": {
    "collapsed": true
   },
   "outputs": [],
   "source": []
  },
  {
   "cell_type": "markdown",
   "metadata": {},
   "source": [
    "# List comprehensions"
   ]
  },
  {
   "cell_type": "code",
   "execution_count": 10,
   "metadata": {},
   "outputs": [
    {
     "name": "stdout",
     "output_type": "stream",
     "text": [
      "[0, 1, 4]\n",
      "[0, 1, 4]\n"
     ]
    }
   ],
   "source": [
    "# list comprehension -- this is a fast way to do something that\n",
    "# would otherwise be in a for loop\n",
    "\n",
    "a=[x**2 for x in np.arange(3)]\n",
    "print(a)\n",
    "\n",
    "# Now do the same thing as a for loop\n",
    "for i, x in enumerate(np.arange(3)):\n",
    "    a[i] = x**2\n",
    "    \n",
    "print(a) # This should be the same as the answer for the list comprehension\n"
   ]
  },
  {
   "cell_type": "code",
   "execution_count": null,
   "metadata": {
    "collapsed": true
   },
   "outputs": [],
   "source": []
  }
 ],
 "metadata": {
  "kernelspec": {
   "display_name": "Python 3",
   "language": "python",
   "name": "python3"
  },
  "language_info": {
   "codemirror_mode": {
    "name": "ipython",
    "version": 3
   },
   "file_extension": ".py",
   "mimetype": "text/x-python",
   "name": "python",
   "nbconvert_exporter": "python",
   "pygments_lexer": "ipython3",
   "version": "3.5.4"
  }
 },
 "nbformat": 4,
 "nbformat_minor": 2
}
